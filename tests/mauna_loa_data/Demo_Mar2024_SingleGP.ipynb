{
 "cells": [
  {
   "cell_type": "code",
   "execution_count": 1,
   "id": "c7ba1556-a1b9-4676-b4de-4f0bcc595dfc",
   "metadata": {},
   "outputs": [
    {
     "ename": "ModuleNotFoundError",
     "evalue": "No module named 'tensorflow'",
     "output_type": "error",
     "traceback": [
      "\u001b[31m---------------------------------------------------------------------------\u001b[39m",
      "\u001b[31mModuleNotFoundError\u001b[39m                       Traceback (most recent call last)",
      "\u001b[36mCell\u001b[39m\u001b[36m \u001b[39m\u001b[32mIn[1]\u001b[39m\u001b[32m, line 3\u001b[39m\n\u001b[32m      1\u001b[39m \u001b[38;5;28;01mimport\u001b[39;00m\u001b[38;5;250m \u001b[39m\u001b[34;01msys\u001b[39;00m\n\u001b[32m      2\u001b[39m sys.path.append(\u001b[33m\"\u001b[39m\u001b[33m../../\u001b[39m\u001b[33m\"\u001b[39m)\n\u001b[32m----> \u001b[39m\u001b[32m3\u001b[39m \u001b[38;5;28;01mfrom\u001b[39;00m\u001b[38;5;250m \u001b[39m\u001b[34;01mmfmodeling\u001b[39;00m\u001b[38;5;250m \u001b[39m\u001b[38;5;28;01mimport\u001b[39;00m SingleGP\n\u001b[32m      4\u001b[39m \u001b[38;5;28;01mfrom\u001b[39;00m\u001b[38;5;250m \u001b[39m\u001b[34;01mtime\u001b[39;00m\u001b[38;5;250m \u001b[39m\u001b[38;5;28;01mimport\u001b[39;00m time \u001b[38;5;28;01mas\u001b[39;00m timer\n\u001b[32m      5\u001b[39m \u001b[38;5;28;01mimport\u001b[39;00m\u001b[38;5;250m \u001b[39m\u001b[34;01mpickle\u001b[39;00m\n",
      "\u001b[36mFile \u001b[39m\u001b[32m/data/maeyama/prepare_maeyama_nf_2025/tests/mauna_loa_data/../../mfmodeling/__init__.py:1\u001b[39m\n\u001b[32m----> \u001b[39m\u001b[32m1\u001b[39m \u001b[38;5;28;01mfrom\u001b[39;00m\u001b[38;5;250m \u001b[39m\u001b[34;01m.\u001b[39;00m\u001b[34;01mSingleGP_GPflow\u001b[39;00m\u001b[38;5;250m \u001b[39m\u001b[38;5;28;01mimport\u001b[39;00m SingleGP\n\u001b[32m      3\u001b[39m \u001b[38;5;66;03m# Use GPy in NARGP if True.\u001b[39;00m\n\u001b[32m      4\u001b[39m _use_gpy_in_nargp = \u001b[38;5;28;01mFalse\u001b[39;00m\n",
      "\u001b[36mFile \u001b[39m\u001b[32m/data/maeyama/prepare_maeyama_nf_2025/tests/mauna_loa_data/../../mfmodeling/SingleGP_GPflow.py:10\u001b[39m\n\u001b[32m      8\u001b[39m \u001b[38;5;28;01mimport\u001b[39;00m\u001b[38;5;250m \u001b[39m\u001b[34;01mnumpy\u001b[39;00m\u001b[38;5;250m \u001b[39m\u001b[38;5;28;01mas\u001b[39;00m\u001b[38;5;250m \u001b[39m\u001b[34;01mnp\u001b[39;00m\n\u001b[32m      9\u001b[39m \u001b[38;5;28;01mimport\u001b[39;00m\u001b[38;5;250m \u001b[39m\u001b[34;01mmatplotlib\u001b[39;00m\u001b[34;01m.\u001b[39;00m\u001b[34;01mpyplot\u001b[39;00m\u001b[38;5;250m \u001b[39m\u001b[38;5;28;01mas\u001b[39;00m\u001b[38;5;250m \u001b[39m\u001b[34;01mplt\u001b[39;00m\n\u001b[32m---> \u001b[39m\u001b[32m10\u001b[39m \u001b[38;5;28;01mimport\u001b[39;00m\u001b[38;5;250m \u001b[39m\u001b[34;01mtensorflow\u001b[39;00m\u001b[38;5;250m \u001b[39m\u001b[38;5;28;01mas\u001b[39;00m\u001b[38;5;250m \u001b[39m\u001b[34;01mtf\u001b[39;00m\n\u001b[32m     11\u001b[39m \u001b[38;5;28;01mimport\u001b[39;00m\u001b[38;5;250m \u001b[39m\u001b[34;01mgpflow\u001b[39;00m\n\u001b[32m     12\u001b[39m \u001b[38;5;28;01mfrom\u001b[39;00m\u001b[38;5;250m \u001b[39m\u001b[34;01mgpflow\u001b[39;00m\u001b[34;01m.\u001b[39;00m\u001b[34;01mmodels\u001b[39;00m\u001b[38;5;250m \u001b[39m\u001b[38;5;28;01mimport\u001b[39;00m GPR\n",
      "\u001b[31mModuleNotFoundError\u001b[39m: No module named 'tensorflow'"
     ]
    }
   ],
   "source": [
    "import sys\n",
    "sys.path.append(\"../../\")\n",
    "from mfmodeling import SingleGP\n",
    "from time import time as timer\n",
    "import pickle\n",
    "\n",
    "# Uncomment below to use GPy implementation.\n",
    "# Note that only RBF kernel is supported in the GPy implementation now.\n",
    "\"\"\"\n",
    "from mfmodeling.SingleGP_GPy import SingleGP\n",
    "\"\"\"\n",
    "\n",
    "help(SingleGP)"
   ]
  },
  {
   "cell_type": "markdown",
   "id": "549c71fc-6880-4622-972f-0976a2742e94",
   "metadata": {},
   "source": [
    "### Preparation of data set\n",
    "https://scikit-learn.org/stable/auto_examples/gaussian_process/plot_gpr_co2.html"
   ]
  },
  {
   "cell_type": "code",
   "execution_count": null,
   "id": "169f7311-0be8-4503-9683-dc64706fc653",
   "metadata": {},
   "outputs": [],
   "source": [
    "import numpy as np\n",
    "import matplotlib.pyplot as plt\n",
    "from sklearn.datasets import fetch_openml\n",
    "import pandas as pd\n",
    "import tensorflow as tf\n",
    "\n",
    "np.random.seed(11)\n",
    "tf.random.set_seed(11)\n",
    "\n",
    "co2 = fetch_openml(data_id=41187, as_frame=True)\n",
    "co2.frame.head()\n",
    "co2_data = co2.frame\n",
    "co2_data[\"date\"] = pd.to_datetime(co2_data[[\"year\", \"month\", \"day\"]])\n",
    "co2_data = co2_data[[\"date\", \"co2\"]].set_index(\"date\")\n",
    "co2_data.head()\n",
    "try:\n",
    "    co2_data_resampled_monthly = co2_data.resample(\"ME\")\n",
    "except ValueError:\n",
    "    # pandas < 2.2 uses M instead of ME\n",
    "    co2_data_resampled_monthly = co2_data.resample(\"M\")\n",
    "co2_data = co2_data_resampled_monthly.mean().dropna(axis=\"index\", how=\"any\")\n",
    "x = (co2_data.index.year + co2_data.index.month / 12).to_numpy().reshape(-1, 1)\n",
    "y = co2_data[\"co2\"].to_numpy()[:,np.newaxis]"
   ]
  },
  {
   "cell_type": "code",
   "execution_count": null,
   "id": "6a6dd0e0-86e5-4286-9215-b566a9cf6ade",
   "metadata": {},
   "outputs": [],
   "source": [
    "data_all = [x,y]\n",
    "print(x.shape, y.shape)\n",
    "nsplit = data_all[0].shape[0]//3*2\n",
    "data_train = [x[:nsplit],y[:nsplit]]\n",
    "data_test = [x[nsplit:],y[nsplit:]]\n",
    "\n",
    "fig = plt.figure()\n",
    "ax = fig.add_subplot()\n",
    "ax.plot(data_train[0], data_train[1], 'g.-', label='Train data', linewidth = 1, markersize=2)\n",
    "ax.plot(data_test[0], data_test[1], 'b.-', label='Test data', linewidth = 1, markersize=2)\n",
    "ax.set_xlabel(\"Year\")\n",
    "ax.set_ylabel(\"Mauna Loa CO2 mole fraction (ppm)\")\n",
    "ax.legend()\n",
    "plt.show()"
   ]
  },
  {
   "cell_type": "markdown",
   "id": "0771e1ac-dedd-42a9-8a02-ebd209b86d05",
   "metadata": {},
   "source": [
    "### Gaussian process regression"
   ]
  },
  {
   "cell_type": "markdown",
   "id": "1a70cf0f",
   "metadata": {},
   "source": [
    "#### RBF kernel"
   ]
  },
  {
   "cell_type": "code",
   "execution_count": null,
   "id": "a20c2b4f-5d35-44f1-8a54-b4e79b27ca89",
   "metadata": {},
   "outputs": [],
   "source": [
    "t1=timer()\n",
    "# Create Single GP instance with training data set\n",
    "model_singleGP = SingleGP(data = data_train)\n",
    "\n",
    "# Optimize hyper parameters\n",
    "model_singleGP.optimize(optimize_restarts=10, verbose=True)\n",
    "t2=timer();print(\"Elapsed time [sec]=\",t2-t1)\n",
    "\n",
    "with open(\"model_singleGP_RBF.pkl\",\"wb\") as f:\n",
    "    pickle.dump(model_singleGP,f)"
   ]
  },
  {
   "cell_type": "code",
   "execution_count": null,
   "id": "23584fcc-2240-4789-9041-248e41c50527",
   "metadata": {},
   "outputs": [],
   "source": [
    "# Prediction\n",
    "mean, var = model_singleGP.predict(x)\n",
    "\n",
    "fig = plt.figure()\n",
    "ax = fig.add_subplot()\n",
    "ax.plot(data_train[0], data_train[1], 'g.-', label='Train data', linewidth = 1, markersize=2)\n",
    "ax.plot(data_test[0], data_test[1], 'b.-', label='Test data', linewidth = 1, markersize=2)\n",
    "ax.plot(x[:,0], mean[:,0], 'r', label = 'SingleGP prediction', linewidth = 1)\n",
    "ax.fill_between(x[:,0], (mean[:,0]-2.0*np.sqrt(var[:,0])).ravel(), (mean[:,0]+2.0*np.sqrt(var[:,0])).ravel(), alpha=0.1, color='red')\n",
    "ax.set_xlabel(\"Year\")\n",
    "ax.set_ylabel(\"Mauna Loa CO2 mole fraction (ppm)\")\n",
    "ax.legend()\n",
    "plt.show()"
   ]
  },
  {
   "cell_type": "markdown",
   "id": "3da1786e",
   "metadata": {},
   "source": [
    "### The following are the predictions of Spectral Mixture Kernel and Neural Kernel Network. \n",
    "### GPy version of SingleGP will use RBF kernel because these kernels are not yet implemented it."
   ]
  },
  {
   "cell_type": "markdown",
   "id": "83f0d8bc",
   "metadata": {},
   "source": [
    "#### Spectral Mixture Kernel"
   ]
  },
  {
   "cell_type": "code",
   "execution_count": null,
   "id": "0ceb8bd8-0a94-4a28-b041-430485d68c0e",
   "metadata": {},
   "outputs": [],
   "source": [
    "t1=timer()\n",
    "# Create Single GP instance with training data set\n",
    "model_singleGP = SingleGP(\n",
    "    data = data_train,\n",
    "    kernel = \"SpectralMixture\",\n",
    "    kernel_args = {\"n_components\": 20}  # Spectral Mixture Kernel with 20 components.\n",
    "    )\n",
    "\n",
    "# Optimize hyper parameters\n",
    "model_singleGP.optimize(optimize_restarts=10, verbose=True)\n",
    "t2=timer();print(\"Elapsed time [sec]=\",t2-t1)\n",
    "\n",
    "with open(\"model_singleGP_SMK.pkl\",\"wb\") as f:\n",
    "    pickle.dump(model_singleGP,f)"
   ]
  },
  {
   "cell_type": "code",
   "execution_count": null,
   "id": "9b7610ad",
   "metadata": {},
   "outputs": [],
   "source": [
    "# Prediction\n",
    "mean, var = model_singleGP.predict(x)\n",
    "\n",
    "fig = plt.figure()\n",
    "ax = fig.add_subplot()\n",
    "ax.plot(data_train[0], data_train[1], 'g.-', label='Train data', linewidth = 1, markersize=2)\n",
    "ax.plot(data_test[0], data_test[1], 'b.-', label='Test data', linewidth = 1, markersize=2)\n",
    "ax.plot(x[:,0], mean[:,0], 'r', label = 'SingleGP prediction', linewidth = 1)\n",
    "ax.fill_between(x[:,0], (mean[:,0]-2.0*np.sqrt(var[:,0])).ravel(), (mean[:,0]+2.0*np.sqrt(var[:,0])).ravel(), alpha=0.1, color='red')\n",
    "ax.set_xlabel(\"Year\")\n",
    "ax.set_ylabel(\"Mauna Loa CO2 mole fraction (ppm)\")\n",
    "ax.legend()\n",
    "plt.show()"
   ]
  },
  {
   "cell_type": "markdown",
   "id": "db03b1bd",
   "metadata": {},
   "source": [
    "#### Neural Kernel Network"
   ]
  },
  {
   "cell_type": "code",
   "execution_count": null,
   "id": "a02bc4be",
   "metadata": {},
   "outputs": [],
   "source": [
    "t1=timer()\n",
    "\n",
    "import gpflow\n",
    "# Define primitive kernels and neural network\n",
    "primitive_kernels = [\n",
    "    {'name': 'Linear'},\n",
    "    # periodic kernel requires base kernel setting.\n",
    "    {'name': 'Periodic', 'params': {'base_kernel': gpflow.kernels.SquaredExponential()}},\n",
    "    {'name': 'ExpQuad'},\n",
    "    {'name': 'RatQuad'},\n",
    "    {'name': 'Linear'},\n",
    "    {'name': 'RatQuad'},\n",
    "    {'name': 'ExpQuad'},\n",
    "    # periodic kernel requires base kernel setting.\n",
    "    {'name': 'Periodic', 'params': {'base_kernel': gpflow.kernels.SquaredExponential()}}]\n",
    "neural_network = [\n",
    "        {'name': 'Linear',  'params': {'input_dim': 8, 'output_dim': 8}},\n",
    "        {'name': 'Product', 'params': {'input_dim': 8, 'step': 2}},\n",
    "        {'name': 'Linear',  'params': {'input_dim': 4, 'output_dim': 4}},\n",
    "        {'name': 'Product', 'params': {'input_dim': 4, 'step': 2}},\n",
    "        {'name': 'Linear',  'params': {'input_dim': 2, 'output_dim': 1}}]\n",
    "\n",
    "\n",
    "# Create Single GP instance with training data set\n",
    "model_singleGP = SingleGP(\n",
    "    data = data_train,\n",
    "    kernel = \"NeuralKernelNetwork\",\n",
    "    # Pass the primitive kernels and neural network via \"kernel_args\" key\n",
    "    kernel_args = {\"neural_network\": neural_network,\n",
    "                   \"primitive_kernels\": primitive_kernels},\n",
    "    normalize=True  # Normalize data for stability\n",
    "    )\n",
    "\n",
    "# Optimize hyperparameters with Adam\n",
    "model_singleGP.optimize(\n",
    "    verbose=False,\n",
    "    optimizer_name=\"Adam\",\n",
    "    max_iters=2000,\n",
    "    optimizer_parameters={\"learning_rate\": 0.01},\n",
    "    optimize_restarts=5,\n",
    "    # Use built-in random initialization of the NeuralKernelNetwork class\n",
    "    use_built_in_initialization=True,\n",
    "    plot_history=False)\n",
    "\n",
    "t2=timer();print(\"Elapsed time [sec]=\",t2-t1)\n",
    "\n",
    "with open(\"model_singleGP_NKN.pkl\",\"wb\") as f:\n",
    "    pickle.dump(model_singleGP,f)"
   ]
  },
  {
   "cell_type": "code",
   "execution_count": null,
   "id": "8cf658ce",
   "metadata": {},
   "outputs": [],
   "source": [
    "# Prediction\n",
    "mean, var = model_singleGP.predict(x)\n",
    "\n",
    "fig = plt.figure()\n",
    "ax = fig.add_subplot()\n",
    "ax.plot(data_train[0], data_train[1], 'g.-', label='Train data', linewidth = 1, markersize=2)\n",
    "ax.plot(data_test[0], data_test[1], 'b.-', label='Test data', linewidth = 1, markersize=2)\n",
    "ax.plot(x[:,0], mean[:,0], 'r', label = 'SingleGP prediction', linewidth = 1)\n",
    "ax.fill_between(x[:,0], (mean[:,0]-2.0*np.sqrt(var[:,0])).ravel(), (mean[:,0]+2.0*np.sqrt(var[:,0])).ravel(), alpha=0.1, color='red')\n",
    "ax.set_xlabel(\"Year\")\n",
    "ax.set_ylabel(\"Mauna Loa CO2 mole fraction (ppm)\")\n",
    "ax.legend()\n",
    "plt.show()"
   ]
  },
  {
   "cell_type": "code",
   "execution_count": null,
   "id": "ba64d174-7b61-4b82-b5f9-554b426630dc",
   "metadata": {},
   "outputs": [],
   "source": []
  },
  {
   "cell_type": "code",
   "execution_count": null,
   "id": "ad613b94-091b-4c8e-ac03-59de388ae660",
   "metadata": {},
   "outputs": [],
   "source": []
  }
 ],
 "metadata": {
  "kernelspec": {
   "display_name": "dps_3.12.11",
   "language": "python",
   "name": "dps_3.12.11"
  },
  "language_info": {
   "codemirror_mode": {
    "name": "ipython",
    "version": 3
   },
   "file_extension": ".py",
   "mimetype": "text/x-python",
   "name": "python",
   "nbconvert_exporter": "python",
   "pygments_lexer": "ipython3",
   "version": "3.12.11"
  }
 },
 "nbformat": 4,
 "nbformat_minor": 5
}
